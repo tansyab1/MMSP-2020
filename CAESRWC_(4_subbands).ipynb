{
  "nbformat": 4,
  "nbformat_minor": 0,
  "metadata": {
    "accelerator": "GPU",
    "colab": {
      "name": " CAESRWC (4 subbands).ipynb",
      "provenance": [],
      "collapsed_sections": [],
      "toc_visible": true,
      "include_colab_link": true
    },
    "kernelspec": {
      "display_name": "Python 3",
      "language": "python",
      "name": "python3"
    },
    "language_info": {
      "codemirror_mode": {
        "name": "ipython",
        "version": 3
      },
      "file_extension": ".py",
      "mimetype": "text/x-python",
      "name": "python",
      "nbconvert_exporter": "python",
      "pygments_lexer": "ipython3",
      "version": "3.6.5"
    }
  },
  "cells": [
    {
      "cell_type": "markdown",
      "metadata": {
        "id": "view-in-github",
        "colab_type": "text"
      },
      "source": [
        "<a href=\"https://colab.research.google.com/github/tansyab1/MMSP-2020/blob/main/CAESRWC_(4_subbands).ipynb\" target=\"_parent\"><img src=\"https://colab.research.google.com/assets/colab-badge.svg\" alt=\"Open In Colab\"/></a>"
      ]
    },
    {
      "cell_type": "markdown",
      "metadata": {
        "id": "rrnbvOcvn44w"
      },
      "source": [
        "# **CAESRWC-extend**: Convolutional Autoencoder Sparse Representation Wavelet classification (CAESRWC) is a transductive classification model based on sparse representations. \n",
        "\n",
        "#Author:  **Tan-Sy NGUYEN**\n"
      ]
    },
    {
      "cell_type": "markdown",
      "metadata": {
        "id": "cevpu3iZqK6E"
      },
      "source": [
        "Connect the **Google Colab** with **Google Drive**"
      ]
    },
    {
      "cell_type": "code",
      "metadata": {
        "id": "MKoBrqlaPXr_",
        "colab": {
          "base_uri": "https://localhost:8080/",
          "height": 34
        },
        "outputId": "ddbba68d-e85e-4ee8-b18f-f0d90081ed55"
      },
      "source": [
        "from google.colab import drive\n",
        "drive.mount('/content/drive')"
      ],
      "execution_count": null,
      "outputs": [
        {
          "output_type": "stream",
          "text": [
            "Drive already mounted at /content/drive; to attempt to forcibly remount, call drive.mount(\"/content/drive\", force_remount=True).\n"
          ],
          "name": "stdout"
        }
      ]
    },
    {
      "cell_type": "code",
      "metadata": {
        "id": "RtN00cb0n6hZ",
        "colab": {
          "base_uri": "https://localhost:8080/",
          "height": 34
        },
        "outputId": "9119748d-9f37-4594-9d00-cd434d4709d2"
      },
      "source": [
        "import torch\n",
        "print(torch.__version__)"
      ],
      "execution_count": null,
      "outputs": [
        {
          "output_type": "stream",
          "text": [
            "1.6.0+cu101\n"
          ],
          "name": "stdout"
        }
      ]
    },
    {
      "cell_type": "markdown",
      "metadata": {
        "id": "os2D3RvJplgF"
      },
      "source": [
        "We will verify that GPU is enabled for this notebook\n",
        "\n",
        "Following should print: ***CUDA is available!  Training on GPU ...***\n",
        " \n",
        "If it prints otherwise, then you need to enable GPU: \n",
        "\n",
        "From **Menu** > **Runtime** > **Change Runtime Type** > **Hardware Accelerator** > **GPU**"
      ]
    },
    {
      "cell_type": "code",
      "metadata": {
        "id": "jW9T-evMrqds",
        "colab": {
          "base_uri": "https://localhost:8080/",
          "height": 34
        },
        "outputId": "73517d48-d027-47cd-8303-0eb42b79dc4f"
      },
      "source": [
        "import torch\n",
        "import numpy as np\n",
        "\n",
        "# check if CUDA is available\n",
        "train_on_gpu = torch.cuda.is_available()\n",
        "\n",
        "if not train_on_gpu:\n",
        "    print('CUDA is not available.  Training on CPU ...')\n",
        "else:\n",
        "    print('CUDA is available!  Training on GPU ...')"
      ],
      "execution_count": null,
      "outputs": [
        {
          "output_type": "stream",
          "text": [
            "CUDA is available!  Training on GPU ...\n"
          ],
          "name": "stdout"
        }
      ]
    },
    {
      "cell_type": "code",
      "metadata": {
        "id": "tKQGml-R_jxP",
        "colab": {
          "base_uri": "https://localhost:8080/",
          "height": 357
        },
        "outputId": "c585614e-0123-416e-ba8d-5e2f24dc46b2"
      },
      "source": [
        "!nvidia-smi"
      ],
      "execution_count": null,
      "outputs": [
        {
          "output_type": "stream",
          "text": [
            "Sun Oct 11 07:41:16 2020       \n",
            "+-----------------------------------------------------------------------------+\n",
            "| NVIDIA-SMI 455.23.05    Driver Version: 418.67       CUDA Version: 10.1     |\n",
            "|-------------------------------+----------------------+----------------------+\n",
            "| GPU  Name        Persistence-M| Bus-Id        Disp.A | Volatile Uncorr. ECC |\n",
            "| Fan  Temp  Perf  Pwr:Usage/Cap|         Memory-Usage | GPU-Util  Compute M. |\n",
            "|                               |                      |               MIG M. |\n",
            "|===============================+======================+======================|\n",
            "|   0  Tesla K80           Off  | 00000000:00:04.0 Off |                    0 |\n",
            "| N/A   73C    P0    74W / 149W |   2659MiB / 11441MiB |      0%      Default |\n",
            "|                               |                      |                 ERR! |\n",
            "+-------------------------------+----------------------+----------------------+\n",
            "                                                                               \n",
            "+-----------------------------------------------------------------------------+\n",
            "| Processes:                                                                  |\n",
            "|  GPU   GI   CI        PID   Type   Process name                  GPU Memory |\n",
            "|        ID   ID                                                   Usage      |\n",
            "|=============================================================================|\n",
            "|  No running processes found                                                 |\n",
            "+-----------------------------------------------------------------------------+\n"
          ],
          "name": "stdout"
        }
      ]
    },
    {
      "cell_type": "code",
      "metadata": {
        "id": "VA32GQtL_sS4",
        "colab": {
          "base_uri": "https://localhost:8080/",
          "height": 395
        },
        "outputId": "64c6b7a1-00e5-4807-de67-356a20ebb6de"
      },
      "source": [
        "\n",
        "from torch.autograd import Variable\n",
        "from torchvision import datasets\n",
        "from torchvision.utils import make_grid\n",
        "from torch.utils.data import DataLoader\n",
        "from torch.utils.data.dataset import Dataset\n",
        "from torch.distributions import Categorical\n",
        "import torchvision.transforms as transforms\n",
        "import argparse\n",
        "import os\n",
        "import torch.nn as nn\n",
        "import torch.nn.functional as F\n",
        "import scipy.io as io\n",
        "import math\n",
        "import numbers\n",
        "import pywt\n",
        "from tqdm import tqdm\n",
        "from matplotlib import pyplot\n",
        "from ipywidgets import interact\n",
        "from PIL import Image\n",
        "from scipy.stats import entropy\n",
        "from collections import OrderedDict\n",
        "from skimage.feature import greycomatrix, greycoprops\n",
        "! git clone https://github.com/fbcotter/pytorch_wavelets\n",
        "! cd ./pytorch_wavelets/\n",
        "! pip install ./pytorch_wavelets/\n",
        "from pytorch_wavelets import DWTForward, DWTInverse # (or import DWT, IDWT)\n"
      ],
      "execution_count": null,
      "outputs": [
        {
          "output_type": "stream",
          "text": [
            "fatal: destination path 'pytorch_wavelets' already exists and is not an empty directory.\n",
            "Processing ./pytorch_wavelets\n",
            "Requirement already satisfied: numpy in /usr/local/lib/python3.6/dist-packages (from pytorch-wavelets==1.2.3) (1.18.5)\n",
            "Requirement already satisfied: six in /usr/local/lib/python3.6/dist-packages (from pytorch-wavelets==1.2.3) (1.15.0)\n",
            "Requirement already satisfied: torch in /usr/local/lib/python3.6/dist-packages (from pytorch-wavelets==1.2.3) (1.6.0+cu101)\n",
            "Requirement already satisfied: future in /usr/local/lib/python3.6/dist-packages (from torch->pytorch-wavelets==1.2.3) (0.16.0)\n",
            "Building wheels for collected packages: pytorch-wavelets\n",
            "  Building wheel for pytorch-wavelets (setup.py) ... \u001b[?25l\u001b[?25hdone\n",
            "  Created wheel for pytorch-wavelets: filename=pytorch_wavelets-1.2.3-cp36-none-any.whl size=52839 sha256=855a43055a13170a05373888318e8fc5608756ece9b157758a9b0262b7823323\n",
            "  Stored in directory: /tmp/pip-ephem-wheel-cache-l91dnwti/wheels/82/e1/5b/16a4e6ccfc0bb2ce14bd2796adb13e6e9b718cb7d2e1ae3643\n",
            "Successfully built pytorch-wavelets\n",
            "Installing collected packages: pytorch-wavelets\n",
            "  Found existing installation: pytorch-wavelets 1.2.3\n",
            "    Uninstalling pytorch-wavelets-1.2.3:\n",
            "      Successfully uninstalled pytorch-wavelets-1.2.3\n",
            "Successfully installed pytorch-wavelets-1.2.3\n"
          ],
          "name": "stdout"
        },
        {
          "output_type": "display_data",
          "data": {
            "application/vnd.colab-display-data+json": {
              "pip_warning": {
                "packages": [
                  "pytorch_wavelets"
                ]
              }
            }
          },
          "metadata": {
            "tags": []
          }
        }
      ]
    },
    {
      "cell_type": "code",
      "metadata": {
        "id": "cg8qkqP5vyzj"
      },
      "source": [
        "! pip freeze > requirements.txt"
      ],
      "execution_count": null,
      "outputs": []
    },
    {
      "cell_type": "markdown",
      "metadata": {
        "id": "syX4QvGTj6rB"
      },
      "source": [
        "## 1. Define the **Loss function** including 3 main parts:\n",
        "\n",
        "1.   Reconstruction Loss between the original image and reconstructed image\n",
        "2.   Expression Loss based on the SRC equation\n",
        "3.   Regular Loss: L1 loss of sparse code\n"
      ]
    },
    {
      "cell_type": "code",
      "metadata": {
        "id": "v4AroTSe_ymC"
      },
      "source": [
        "def loss_fn(sparsecodeLL, z_LL, z_LL_c,x_LL,x_LL_c,sparsecodeLH,z_LH, z_LH_c, x_LH,x_LH_c,sparsecodeHL,z_HL, z_HL_c,x_HL,x_HL_c,sparsecodeHH,z_HH, z_HH_c,x_HH,x_HH_c):\n",
        "    recon_lossLL = 10 * F.mse_loss(x_LL_c, x_LL)\n",
        "    express_lossLL = F.mse_loss(z_LL,z_LL_c)\n",
        "    reg_lossLL = torch.norm(sparsecodeLL,p='fro')\n",
        "\n",
        "    recon_lossLH = 10 * F.mse_loss(x_LH_c, x_LH)\n",
        "    express_lossLH = F.mse_loss(z_LH,z_LH_c)\n",
        "    reg_lossLH = torch.norm(sparsecodeLH,p='fro')\n",
        "\n",
        "    recon_lossHL = 10 * F.mse_loss(x_HL_c, x_HL)\n",
        "    express_lossHL = F.mse_loss(z_HL,z_HL_c)\n",
        "    reg_lossHL = torch.norm(sparsecodeHL,p='fro')\n",
        "\n",
        "    recon_lossHH = 10 * F.mse_loss(x_HH_c, x_HH)\n",
        "    express_lossHH = F.mse_loss(z_HH,z_HH_c)\n",
        "    reg_lossHH = torch.norm(sparsecodeHH,p='fro')\n",
        "\n",
        "    return recon_lossLL+recon_lossLH+recon_lossHL+recon_lossHH+express_lossLL+express_lossLH+express_lossHL+express_lossHH+reg_lossLL+reg_lossLH+reg_lossHL+reg_lossHH"
      ],
      "execution_count": null,
      "outputs": []
    },
    {
      "cell_type": "markdown",
      "metadata": {
        "id": "1pefU0CzlbUw"
      },
      "source": [
        "## 2. Define the **model**"
      ]
    },
    {
      "cell_type": "code",
      "metadata": {
        "id": "2VsgYfMLAFYI"
      },
      "source": [
        "class VAEGT(nn.Module):\n",
        "    def __init__(self, split_ratio, batch_size=1000, num_classes=10, negative_slope=0.1, imageshape=32):\n",
        "        super(VAEGT, self).__init__()\n",
        "        self.batch_size = batch_size\n",
        "        self.split_ratio = split_ratio\n",
        "        self.emb_outshape = math.ceil(imageshape)/8\n",
        "\n",
        "        self.train_size = int(self.split_ratio*self.batch_size)\n",
        "        self.test_size = batch_size - self.train_size\n",
        "\n",
        "        self.num_classes = num_classes\n",
        "        self.negative_slope = negative_slope\n",
        "        \n",
        "\n",
        "        # Encoder declaration\n",
        "        self.encoderLL = nn.Sequential(OrderedDict([\n",
        "            ('layer1', nn.Conv2d(in_channels=1, out_channels=8, kernel_size=5, stride=2, padding=(2,2))),\n",
        "            ('relu1', nn.LeakyReLU(negative_slope=negative_slope, inplace=True)),\n",
        "            ('layer2', nn.Conv2d(in_channels=8, out_channels=16, kernel_size=3, stride=2, padding=(1,1))),\n",
        "            ('relu2', nn.LeakyReLU(negative_slope=negative_slope, inplace=True)),\n",
        "            ('layer3', nn.Conv2d(in_channels=16, out_channels=32, kernel_size=3, stride=1, padding=(1,1))),\n",
        "            ('relu3', nn.LeakyReLU(negative_slope=negative_slope, inplace=True)),\n",
        "            ('layer4', nn.Conv2d(in_channels=32, out_channels=32, kernel_size=3, stride=1, padding=(1,1))),\n",
        "            ('relu4', nn.LeakyReLU(negative_slope=negative_slope, inplace=True)),\n",
        "        ]))\n",
        "\n",
        "        self.encoderLH = nn.Sequential(OrderedDict([\n",
        "            ('layer1', nn.Conv2d(in_channels=1, out_channels=8, kernel_size=5, stride=2, padding=(2,2))),\n",
        "            ('relu1', nn.LeakyReLU(negative_slope=negative_slope, inplace=True)),\n",
        "            ('layer2', nn.Conv2d(in_channels=8, out_channels=16, kernel_size=3, stride=2, padding=(1,1))),\n",
        "            ('relu2', nn.LeakyReLU(negative_slope=negative_slope, inplace=True)),\n",
        "            ('layer3', nn.Conv2d(in_channels=16, out_channels=32, kernel_size=3, stride=1, padding=(1,1))),\n",
        "            ('relu3', nn.LeakyReLU(negative_slope=negative_slope, inplace=True)),\n",
        "            ('layer4', nn.Conv2d(in_channels=32, out_channels=32, kernel_size=3, stride=1, padding=(1,1))),\n",
        "            ('relu4', nn.LeakyReLU(negative_slope=negative_slope, inplace=True)),\n",
        "        ]))\n",
        "                \n",
        "        self.encoderHL = nn.Sequential(OrderedDict([\n",
        "            ('layer1', nn.Conv2d(in_channels=1, out_channels=8, kernel_size=5, stride=2, padding=(2,2))),\n",
        "            ('relu1', nn.LeakyReLU(negative_slope=negative_slope, inplace=True)),\n",
        "            ('layer2', nn.Conv2d(in_channels=8, out_channels=16, kernel_size=3, stride=2, padding=(1,1))),\n",
        "            ('relu2', nn.LeakyReLU(negative_slope=negative_slope, inplace=True)),\n",
        "            ('layer3', nn.Conv2d(in_channels=16, out_channels=32, kernel_size=3, stride=1, padding=(1,1))),\n",
        "            ('relu3', nn.LeakyReLU(negative_slope=negative_slope, inplace=True)),\n",
        "            ('layer4', nn.Conv2d(in_channels=32, out_channels=32, kernel_size=3, stride=1, padding=(1,1))),\n",
        "            ('relu4', nn.LeakyReLU(negative_slope=negative_slope, inplace=True)),\n",
        "        ]))\n",
        "                        \n",
        "        self.encoderHH = nn.Sequential(OrderedDict([\n",
        "            ('layer1', nn.Conv2d(in_channels=1, out_channels=8, kernel_size=5, stride=2, padding=(2,2))),\n",
        "            ('relu1', nn.LeakyReLU(negative_slope=negative_slope, inplace=True)),\n",
        "            ('layer2', nn.Conv2d(in_channels=8, out_channels=16, kernel_size=3, stride=2, padding=(1,1))),\n",
        "            ('relu2', nn.LeakyReLU(negative_slope=negative_slope, inplace=True)),\n",
        "            ('layer3', nn.Conv2d(in_channels=16, out_channels=32, kernel_size=3, stride=1, padding=(1,1))),\n",
        "            ('relu3', nn.LeakyReLU(negative_slope=negative_slope, inplace=True)),\n",
        "            ('layer4', nn.Conv2d(in_channels=32, out_channels=32, kernel_size=3, stride=1, padding=(1,1))),\n",
        "            ('relu4', nn.LeakyReLU(negative_slope=negative_slope, inplace=True)),\n",
        "        ]))\n",
        "\n",
        "        # Sparse layer declaration\n",
        "        self.sparsecodeLL = torch.nn.Parameter(1.0e-4 *torch.ones(self.test_size, self.train_size).cuda(), requires_grad=True)\n",
        "        self.sparsecodeLH = torch.nn.Parameter(1.0e-4 *torch.ones(self.test_size, self.train_size).cuda(), requires_grad=True)\n",
        "        self.sparsecodeHL = torch.nn.Parameter(1.0e-4 *torch.ones(self.test_size, self.train_size).cuda(), requires_grad=True)\n",
        "        self.sparsecodeHH = torch.nn.Parameter(1.0e-4 *torch.ones(self.test_size, self.train_size).cuda(), requires_grad=True)\n",
        "        # self._reshape = nn.Sequential(OrderedDict([\n",
        "        #     ('reshape', nn.Linear(896, 512)),\n",
        "        # ]))\n",
        "\n",
        "        # Decoder declaration\n",
        "        self.decoderLL = nn.Sequential(OrderedDict([\n",
        "            ('layer1',  nn.ConvTranspose2d(in_channels=32, out_channels=16, kernel_size=3, stride=1, padding=(1,1))),\n",
        "            ('relu1', nn.LeakyReLU(negative_slope=negative_slope, inplace=True)),\n",
        "            ('layer2',  nn.ConvTranspose2d(in_channels=16, out_channels=8, kernel_size=3, stride=2, padding=(1,1))),\n",
        "            ('relu2', nn.LeakyReLU(negative_slope=negative_slope, inplace=True)),\n",
        "            ('layer3',  nn.ConvTranspose2d(in_channels=8, out_channels=1, kernel_size=5, stride=2, padding=(1,2),output_padding=[1,1])),\n",
        "            ('relu3', nn.LeakyReLU(negative_slope=negative_slope, inplace=True)),\n",
        "        ]))\n",
        "\n",
        "        self.decoderLH = nn.Sequential(OrderedDict([\n",
        "            ('layer1',  nn.ConvTranspose2d(in_channels=32, out_channels=16, kernel_size=3, stride=1, padding=(1,1))),\n",
        "            ('relu1', nn.LeakyReLU(negative_slope=negative_slope, inplace=True)),\n",
        "            ('layer2',  nn.ConvTranspose2d(in_channels=16, out_channels=8, kernel_size=3, stride=2, padding=(1,1))),\n",
        "            ('relu2', nn.LeakyReLU(negative_slope=negative_slope, inplace=True)),\n",
        "            ('layer3',  nn.ConvTranspose2d(in_channels=8, out_channels=1, kernel_size=5, stride=2, padding=(1,2),output_padding=[1,1])),\n",
        "            ('relu3', nn.LeakyReLU(negative_slope=negative_slope, inplace=True)),\n",
        "        ]))\n",
        "\n",
        "        self.decoderHL = nn.Sequential(OrderedDict([\n",
        "            ('layer1',  nn.ConvTranspose2d(in_channels=32, out_channels=16, kernel_size=3, stride=1, padding=(1,1))),\n",
        "            ('relu1', nn.LeakyReLU(negative_slope=negative_slope, inplace=True)),\n",
        "            ('layer2',  nn.ConvTranspose2d(in_channels=16, out_channels=8, kernel_size=3, stride=2, padding=(1,1))),\n",
        "            ('relu2', nn.LeakyReLU(negative_slope=negative_slope, inplace=True)),\n",
        "            ('layer3',  nn.ConvTranspose2d(in_channels=8, out_channels=1, kernel_size=5, stride=2, padding=(1,2),output_padding=[1,1])),\n",
        "            ('relu3', nn.LeakyReLU(negative_slope=negative_slope, inplace=True)),\n",
        "        ]))\n",
        "\n",
        "        self.decoderHH = nn.Sequential(OrderedDict([\n",
        "            ('layer1',  nn.ConvTranspose2d(in_channels=32, out_channels=16, kernel_size=3, stride=1, padding=(1,1))),\n",
        "            ('relu1', nn.LeakyReLU(negative_slope=negative_slope, inplace=True)),\n",
        "            ('layer2',  nn.ConvTranspose2d(in_channels=16, out_channels=8, kernel_size=3, stride=2, padding=(1,1))),\n",
        "            ('relu2', nn.LeakyReLU(negative_slope=negative_slope, inplace=True)),\n",
        "            ('layer3',  nn.ConvTranspose2d(in_channels=8, out_channels=1, kernel_size=5, stride=2, padding=(1,2),output_padding=[1,1])),\n",
        "            ('relu3', nn.LeakyReLU(negative_slope=negative_slope, inplace=True)),\n",
        "        ]))\n",
        "\n",
        "        self._init_weights()\n",
        "\n",
        "    def forward(self,x_train_LL,x_train_LH,x_train_HL,x_train_HH,  y_train,x_test_LL,x_test_LH,x_test_HL,x_test_HH,  y_test):\n",
        "        if self.training:\n",
        "\n",
        "            # Encode input\n",
        "            # i = torch.cat([imgs_train, imgs_test], dim =0).cuda()\n",
        "            x_LL = torch.cat([x_train_LL, x_test_LL], dim =0).cuda()\n",
        "            x_LH = torch.cat([x_train_LH, x_test_LH], dim =0).cuda()\n",
        "            x_HL = torch.cat([x_train_HL, x_test_HL], dim =0).cuda()\n",
        "            x_HH = torch.cat([x_train_HH, x_test_HH], dim =0).cuda()\n",
        "            \n",
        "            z_train_LL = self.encoderLL(x_train_LL.cuda())\n",
        "            z_train_LH = self.encoderLH(x_train_LH.cuda())\n",
        "            z_train_HL = self.encoderHL(x_train_HL.cuda())\n",
        "            z_train_HH = self.encoderHH(x_train_HH.cuda())\n",
        "\n",
        "            z_train_LL = torch.reshape(z_train_LL,[self.train_size,-1])\n",
        "            z_train_LH = torch.reshape(z_train_LH,[self.train_size,-1])\n",
        "            z_train_HL = torch.reshape(z_train_HL,[self.train_size,-1])\n",
        "            z_train_HH = torch.reshape(z_train_HH,[self.train_size,-1])\n",
        "\n",
        "            z_test_LL = self.encoderLL(x_test_LL.cuda())\n",
        "            z_test_LH = self.encoderLH(x_test_LH.cuda())\n",
        "            z_test_HL = self.encoderHL(x_test_HL.cuda())\n",
        "            z_test_HH = self.encoderHH(x_test_HH.cuda())\n",
        "\n",
        "            z_test_LL_o = torch.reshape(z_test_LL,[self.test_size,-1])\n",
        "            z_test_LH_o = torch.reshape(z_test_LH,[self.test_size,-1])\n",
        "            z_test_HL_o = torch.reshape(z_test_HL,[self.test_size,-1])\n",
        "            z_test_HH_o = torch.reshape(z_test_HH,[self.test_size,-1])\n",
        "\n",
        "            z_LL = torch.cat([z_train_LL, z_test_LL_o], dim=0)\n",
        "            z_LH = torch.cat([z_train_LH, z_test_LH_o], dim=0)\n",
        "            z_HL = torch.cat([z_train_HL, z_test_HL_o], dim=0)\n",
        "            z_HH = torch.cat([z_train_HH, z_test_HH_o], dim=0)\n",
        "\n",
        "            # Sparse coding\n",
        "            z_test_LL_c = torch.matmul(self.sparsecodeLL, z_train_LL)\n",
        "            z_test_LH_c = torch.matmul(self.sparsecodeLH, z_train_LH)\n",
        "            z_test_HL_c = torch.matmul(self.sparsecodeHL, z_train_HL)\n",
        "            z_test_HH_c = torch.matmul(self.sparsecodeHH, z_train_HH)\n",
        "\n",
        "            # Encode label\n",
        "            y_train_onehot = self._onehot(y_train)\n",
        "            y_test_onehot = self._onehot(y_test)\n",
        "            \n",
        "            z_LL_c = torch.cat([z_train_LL, z_test_LL_c], dim=0)\n",
        "            z_LH_c = torch.cat([z_train_LH, z_test_LH_c], dim=0)\n",
        "            z_HL_c = torch.cat([z_train_HL, z_test_HL_c], dim=0)\n",
        "            z_HH_c = torch.cat([z_train_HH, z_test_HH_c], dim=0)\n",
        "\n",
        "            z_LL_c_o = torch.reshape(z_LL_c,[self.batch_size,z_test_LL.shape[1],z_test_LL.shape[2],z_test_LL.shape[3]])\n",
        "            z_LH_c_o = torch.reshape(z_LH_c,[self.batch_size,z_test_LL.shape[1],z_test_LL.shape[2],z_test_LL.shape[3]])\n",
        "            z_HL_c_o = torch.reshape(z_HL_c,[self.batch_size,z_test_LL.shape[1],z_test_LL.shape[2],z_test_LL.shape[3]])\n",
        "            z_HH_c_o = torch.reshape(z_HH_c,[self.batch_size,z_test_LL.shape[1],z_test_LL.shape[2],z_test_LL.shape[3]])\n",
        "          \n",
        "            # Decode\n",
        "            x_LL_c = self.decoderLL(z_LL_c_o)\n",
        "            x_LH_c = self.decoderLH(z_LH_c_o)\n",
        "            x_HL_c = self.decoderHL(z_HL_c_o)\n",
        "            x_HH_c = self.decoderHH(z_HH_c_o)\n",
        "            # i_c = torch.Tensor()\n",
        "            # xhf = torch.cat([x_LH_c,x_HL_c,x_HH_c], dim=1)\n",
        "            # xh = [xhf.unsqueeze(dim=1)]\n",
        "            # xim = DWTInverse(wave='haar').cuda()\n",
        "            # i_c = xim((x_LL_c,xh))\n",
        "            \n",
        "            return self.sparsecodeLL, z_LL, z_LL_c,x_LL,x_LL_c,self.sparsecodeLH,z_LH, z_LH_c, x_LH,x_LH_c,self.sparsecodeHL,z_HL, z_HL_c,x_HL,x_HL_c,self.sparsecodeHH,z_HH, z_HH_c,x_HH,x_HH_c\n",
        "\n",
        "    def _onehot(self, y):\n",
        "        y_onehot = torch.FloatTensor(y.shape[0], self.num_classes)\n",
        "        y_onehot.zero_()\n",
        "        y_onehot.scatter_(1, y.long(), 1)\n",
        "        return y_onehot\n",
        "\n",
        "    def _init_weights(self):\n",
        "        for m in self.modules():\n",
        "            if isinstance(m, nn.Linear):\n",
        "                m.weight.data.normal_(0, 0.01)\n",
        "                m.bias.data.zero_()\n",
        "            elif isinstance(m, nn.BatchNorm2d):\n",
        "                m.weight.data.fill_(1)\n",
        "                m.bias.data.zero_()"
      ],
      "execution_count": null,
      "outputs": []
    },
    {
      "cell_type": "markdown",
      "metadata": {
        "id": "ngS07vlQlmkl"
      },
      "source": [
        "## 3. Define the **improve checker** to save the best checkpoint"
      ]
    },
    {
      "cell_type": "code",
      "metadata": {
        "id": "dGYdTmNJAOIJ"
      },
      "source": [
        "# Accuracy checker: mode \"min\" for loss, mode \"max\" for accuracy\n",
        "class ImproveChecker():\n",
        "\tdef __init__(self, mode='min', best_val=None):\n",
        "\t\tassert mode in ['min', 'max']\n",
        "\t\tself.mode = mode\n",
        "\t\tif best_val is not None:\n",
        "\t\t\tself.best_val = best_val\n",
        "\t\telse:\n",
        "\t\t\tif self.mode=='min':\n",
        "\t\t\t\tself.best_val = np.inf\n",
        "\t\t\telif self.mode=='max':\n",
        "\t\t\t\tself.best_val = 0.0\n",
        "\n",
        "\tdef _check(self, val):\n",
        "\t\tif self.mode=='min':\n",
        "\t\t\tif val < self.best_val:\n",
        "\t\t\t\tprint(\"[%s] Improved from %.4f to %.4f\" % (self.__class__.__name__, self.best_val, val))\n",
        "\t\t\t\tself.best_val = val\n",
        "\t\t\t\treturn True\n",
        "\t\t\telse:\n",
        "\t\t\t\tprint(\"[%s] Not improved from %.4f\" % (self.__class__.__name__, self.best_val))\n",
        "\t\t\t\treturn False\n",
        "\t\telse:\n",
        "\t\t\tif val > self.best_val:\n",
        "\t\t\t\tprint(\"[%s] Improved from %.4f to %.4f\" % (self.__class__.__name__, self.best_val, val))\n",
        "\t\t\t\tself.best_val = val\n",
        "\t\t\t\treturn True\n",
        "\t\t\telse:\n",
        "\t\t\t\tprint(\"[%s] Not improved from %.4f\" % (self.__class__.__name__, self.best_val))\n",
        "\t\t\t\treturn False"
      ],
      "execution_count": null,
      "outputs": []
    },
    {
      "cell_type": "markdown",
      "metadata": {
        "id": "I_RxRhd-lwaX"
      },
      "source": [
        "## 4. Process the **data**"
      ]
    },
    {
      "cell_type": "markdown",
      "metadata": {
        "id": "T8ZiTn_RhW1Q"
      },
      "source": [
        "### 4.3. Apply the Wavelet transform\n",
        "    Arguments:\n",
        "        image batch (sample, channel, width, height): batch of image to be transformed.\n",
        "        level (int): level of wavelet transform."
      ]
    },
    {
      "cell_type": "code",
      "metadata": {
        "id": "fiVxHKSndtCX"
      },
      "source": [
        "# Load SVHN dataset (Gray scale)\n",
        "\n",
        "class MySVHNDataset(datasets.SVHN):\n",
        "    def __init__(self,  root, split='train',\n",
        "                 transform=None, target_transform=None, download=False):\n",
        "        super(MySVHNDataset, self).__init__(\n",
        "            root, split, transform, target_transform, download)\n",
        "    \n",
        "    def __getitem__(self, index):\n",
        "        \"\"\"\n",
        "        Args:\n",
        "            index (int): Index\n",
        "        Returns:\n",
        "            tuple: (image, target) where target is index of the target class.\n",
        "        \"\"\"\n",
        "        img, target = self.data[index], int(self.labels[index])\n",
        "\n",
        "        # doing this so that it is consistent with all other datasets\n",
        "        # to return a PIL Image\n",
        "        img = Image.fromarray(np.transpose(img, (1, 2, 0)))\n",
        "        # Convert to grayscale\n",
        "        img = img.convert('L')\n",
        "        if self.transform is not None:\n",
        "            img = self.transform(img)\n",
        "\n",
        "        if self.target_transform is not None:\n",
        "            target = self.target_transform(target)\n",
        "\n",
        "        return img, target"
      ],
      "execution_count": null,
      "outputs": []
    },
    {
      "cell_type": "code",
      "metadata": {
        "id": "8VgGHvxl7ygw"
      },
      "source": [
        "\n",
        " # Process CUSTOM data from .mat file\n",
        "class MyDataset(Dataset):\n",
        "    def __init__(self, mat_path,split_ratio,width,height):       \n",
        "      self.width = width\n",
        "      self.height = height\n",
        "      self.split_ratio=split_ratio\n",
        "      feature = io.loadmat(mat_path,squeeze_me=True)['features']\n",
        "      feature = feature[:,0:2000]\n",
        "      Label = io.loadmat(mat_path,squeeze_me=True)['Label']\n",
        "      # print(Label.shape)\n",
        "      Label = Label[0:2000]\n",
        "\n",
        "      self.images = torch.from_numpy(np.transpose(feature)).type(torch.float)\n",
        "      self.images = torch.reshape(self.images,[len(self.images), self.width, self.height])\n",
        "\n",
        "      self.init_wt=  torch.unsqueeze(self.images, dim=1)\n",
        "      xfm = DWTForward(J=1, wave='haar') \n",
        "      self.Yll, self.Yh = xfm(self.init_wt)\n",
        "      self.Ylh,self.Yhl,self.Yhh = torch.unbind(self.Yh[0], dim= 2)\n",
        "\n",
        "      self.target = torch.from_numpy(np.transpose(Label)).type(torch.long)\n",
        "      self.data=list(zip(self.Yll,self.Ylh,self.Yhl,self.Yhh, self.target))\n",
        "\n",
        "      self.train_size = int(self.split_ratio*len(self.data))\n",
        "      self.test_size = len(self.data) - self.train_size\n",
        "      \n",
        "    def _generate(self):\n",
        "      self.train_dataset, self.test_dataset = torch.utils.data.random_split(self.data, [self.train_size, self.test_size])\n",
        "      return self.train_dataset, self.test_dataset\n",
        "      \n",
        "    def __getitem__(self, index):\n",
        "      \n",
        "      images=self.images[index]\n",
        "      target=self.target[index]\n",
        "      return images, target\n",
        "     \n",
        "    def __len__(self):\n",
        "      return len(self.data)\n",
        "\n"
      ],
      "execution_count": null,
      "outputs": []
    },
    {
      "cell_type": "markdown",
      "metadata": {
        "id": "lYAqpCk6l4Qd"
      },
      "source": [
        "### 4.1. Declare the link as well as arguments to config the **CUSTOM dataset**\n"
      ]
    },
    {
      "cell_type": "code",
      "metadata": {
        "id": "ryz0iV6V8Fsd",
        "colab": {
          "base_uri": "https://localhost:8080/",
          "height": 419
        },
        "outputId": "59efa6ae-325b-4265-f77f-b9f62f84041f"
      },
      "source": [
        "mat_path = ('/content/drive/My Drive/Colab Notebooks/Master Internship/dataset/YaleB/YaleB_192x168.mat')\n",
        "split_ratio = 0.9\n",
        "num_classes = 40\n",
        "size= [96,84] #size of input image\n",
        "_use_data = [False,False,True]\n",
        "\n",
        "_data_chose= input(\"Choose data to be observed (SVHN-RGB: 1, SVHN-Gray: 2, .mat File: 3):\\n\")\n",
        "\n",
        "if _data_chose==\"1\":\n",
        "  _use_data =[True,False,False]\n",
        "elif _data_chose==\"2\":\n",
        "  _use_data =[False, True, False]\n",
        "elif _data_chose==\"3\":\n",
        "  _use_data =[False, False, True]\n",
        "else:\n",
        "  print(\"Wrong argument ...: SVHNRGB or SVHNGRAY or MAT but (%s)\" %(_data_chose))\n",
        "  \n",
        "\n",
        "# Pytorch data\n",
        "# Configure data loader\n",
        "if _use_data[0]:\n",
        "  print(\"===> Use dataset from Pytorch (RGB)\")\n",
        "  dataset_train_SVHN_RGB = datasets.SVHN(root='./SVHN_RGB/', \n",
        "                                split='train', \n",
        "                                download=True,\n",
        "                                transform=transforms.Compose([transforms.ToTensor(),\n",
        "                                                              transforms.Normalize((0.5,), \n",
        "                                                                                  (0.5, ))]))\n",
        "  dataset_test_SVHN_RGB = datasets.SVHN(root='./SVHN_RGB/', \n",
        "                      split='test', \n",
        "                      download=True,\n",
        "                      transform=transforms.Compose([transforms.ToTensor(),\n",
        "                                                    transforms.Normalize((0.5,), \n",
        "                                                                        (0.5,)),]))\n",
        "  dataloader_train = torch.utils.data.DataLoader( dataset_train_SVHN_RGB, \n",
        "                                                  batch_size=dataset_train.data.shape[0],\n",
        "                                                  num_workers=4, \n",
        "                                                  pin_memory=True,)\n",
        "  dataloader_test = torch.utils.data.DataLoader(dataset_test_SVHN_RGB, \n",
        "                                                batch_size=dataset_test.data.shape[0],\n",
        "                                                num_workers=4, \n",
        "                                                pin_memory=True,)\n",
        "\n",
        "  if dataloader_train.dataset:\n",
        "    print(\"\\n Load Pytorch dataset (SVHN-RGB) successfully ... \\n\", dataloader_train.dataset)\n",
        "    print(\"\\n Training set: %d samples, Testing set: %d samples \" % (len(dataloader_train.dataset),len(dataloader_test.dataset)))\n",
        "\n",
        "if _use_data[1]:\n",
        "  print(\"===> Use dataset from Pytorch (Gray scale)\")\n",
        "  dataset_train_SVHN_Gray = MySVHNDataset(root='./SVHN_Gray/', \n",
        "                                          split='train', \n",
        "                                          download=True,\n",
        "                                          transform=transforms.Compose([transforms.ToTensor(),\n",
        "                                                              transforms.Normalize((0.5,), \n",
        "                                                                                  (0.5,))]))\n",
        "  dataset_test_SVHN_Gray = MySVHNDataset(root='./SVHN_Gray/',\n",
        "                                         split='test', \n",
        "                                         download=True,\n",
        "                                         transform=transforms.Compose([transforms.ToTensor(),\n",
        "                                                              transforms.Normalize((0.5,), \n",
        "                                                                                  (0.5,))]))\n",
        "  dataloader_train = torch.utils.data.DataLoader( dataset_train_SVHN_Gray, \n",
        "                                                  batch_size=dataset_train.data.shape[0],\n",
        "                                                  num_workers=4, \n",
        "                                                  pin_memory=True,)\n",
        "  dataloader_test = torch.utils.data.DataLoader(dataset_test_SVHN_Gray, \n",
        "                                                batch_size=dataset_test.data.shape[0],\n",
        "                                                num_workers=4, \n",
        "                                                pin_memory=True,)\n",
        "  if dataloader_train.dataset:\n",
        "    print(\"\\n Load Pytorch dataset (SVHN-Gray) successfully ... \\n\", dataloader_train.dataset)\n",
        "    print(\"\\n Training set: %d samples, Testing set: %d samples \" % (len(dataloader_train.dataset),len(dataloader_test.dataset)))\n",
        "\n",
        "if _use_data[2]:\n",
        "  print(\"===> Use default dataset from .mat file \\n [path]: %s\" %(mat_path))\n",
        "  custom_data = MyDataset(mat_path,split_ratio=split_ratio, width = size[0], height=size[1])\n",
        "  data_train, data_test = custom_data._generate()\n",
        "\n",
        "  dataloader_train = torch.utils.data.DataLoader(dataset=data_train,\n",
        "                                            num_workers=4,\n",
        "                                            batch_size= 1800,\n",
        "                                            pin_memory=True)\n",
        "\n",
        "  dataloader_test = torch.utils.data.DataLoader(dataset=data_test,\n",
        "                                            num_workers=4,\n",
        "                                            batch_size= 200,\n",
        "                                            pin_memory=True)\n",
        "  if dataloader_train.dataset:\n",
        "    print(\"\\n Dataset change: Load CUSTOM data from .mat file successfully .... \\n\", dataloader_train.dataset)\n",
        "    print(\"\\n Training set: %d samples, Testing set: %d samples \" % (len(dataloader_train.dataset),len(dataloader_test.dataset)))"
      ],
      "execution_count": null,
      "outputs": [
        {
          "output_type": "stream",
          "text": [
            "Choose data to be observed (SVHN-RGB: 1, SVHN-Gray: 2, .mat File: 3):\n",
            "3\n",
            "===> Use default dataset from .mat file \n",
            " [path]: /content/drive/My Drive/Colab Notebooks/Master Internship/dataset/YaleB/YaleB_192x168.mat\n"
          ],
          "name": "stdout"
        },
        {
          "output_type": "error",
          "ename": "RuntimeError",
          "evalue": "ignored",
          "traceback": [
            "\u001b[0;31m---------------------------------------------------------------------------\u001b[0m",
            "\u001b[0;31mRuntimeError\u001b[0m                              Traceback (most recent call last)",
            "\u001b[0;32m<ipython-input-46-94918eb65204>\u001b[0m in \u001b[0;36m<module>\u001b[0;34m()\u001b[0m\n\u001b[1;32m     74\u001b[0m \u001b[0;32mif\u001b[0m \u001b[0m_use_data\u001b[0m\u001b[0;34m[\u001b[0m\u001b[0;36m2\u001b[0m\u001b[0;34m]\u001b[0m\u001b[0;34m:\u001b[0m\u001b[0;34m\u001b[0m\u001b[0;34m\u001b[0m\u001b[0m\n\u001b[1;32m     75\u001b[0m   \u001b[0mprint\u001b[0m\u001b[0;34m(\u001b[0m\u001b[0;34m\"===> Use default dataset from .mat file \\n [path]: %s\"\u001b[0m \u001b[0;34m%\u001b[0m\u001b[0;34m(\u001b[0m\u001b[0mmat_path\u001b[0m\u001b[0;34m)\u001b[0m\u001b[0;34m)\u001b[0m\u001b[0;34m\u001b[0m\u001b[0;34m\u001b[0m\u001b[0m\n\u001b[0;32m---> 76\u001b[0;31m   \u001b[0mcustom_data\u001b[0m \u001b[0;34m=\u001b[0m \u001b[0mMyDataset\u001b[0m\u001b[0;34m(\u001b[0m\u001b[0mmat_path\u001b[0m\u001b[0;34m,\u001b[0m\u001b[0msplit_ratio\u001b[0m\u001b[0;34m=\u001b[0m\u001b[0msplit_ratio\u001b[0m\u001b[0;34m,\u001b[0m \u001b[0mwidth\u001b[0m \u001b[0;34m=\u001b[0m \u001b[0msize\u001b[0m\u001b[0;34m[\u001b[0m\u001b[0;36m0\u001b[0m\u001b[0;34m]\u001b[0m\u001b[0;34m,\u001b[0m \u001b[0mheight\u001b[0m\u001b[0;34m=\u001b[0m\u001b[0msize\u001b[0m\u001b[0;34m[\u001b[0m\u001b[0;36m1\u001b[0m\u001b[0;34m]\u001b[0m\u001b[0;34m)\u001b[0m\u001b[0;34m\u001b[0m\u001b[0;34m\u001b[0m\u001b[0m\n\u001b[0m\u001b[1;32m     77\u001b[0m   \u001b[0mdata_train\u001b[0m\u001b[0;34m,\u001b[0m \u001b[0mdata_test\u001b[0m \u001b[0;34m=\u001b[0m \u001b[0mcustom_data\u001b[0m\u001b[0;34m.\u001b[0m\u001b[0m_generate\u001b[0m\u001b[0;34m(\u001b[0m\u001b[0;34m)\u001b[0m\u001b[0;34m\u001b[0m\u001b[0;34m\u001b[0m\u001b[0m\n\u001b[1;32m     78\u001b[0m \u001b[0;34m\u001b[0m\u001b[0m\n",
            "\u001b[0;32m<ipython-input-45-2d0eaf8cf3bb>\u001b[0m in \u001b[0;36m__init__\u001b[0;34m(self, mat_path, split_ratio, width, height)\u001b[0m\n\u001b[1;32m     13\u001b[0m \u001b[0;34m\u001b[0m\u001b[0m\n\u001b[1;32m     14\u001b[0m       \u001b[0mself\u001b[0m\u001b[0;34m.\u001b[0m\u001b[0mimages\u001b[0m \u001b[0;34m=\u001b[0m \u001b[0mtorch\u001b[0m\u001b[0;34m.\u001b[0m\u001b[0mfrom_numpy\u001b[0m\u001b[0;34m(\u001b[0m\u001b[0mnp\u001b[0m\u001b[0;34m.\u001b[0m\u001b[0mtranspose\u001b[0m\u001b[0;34m(\u001b[0m\u001b[0mfeature\u001b[0m\u001b[0;34m)\u001b[0m\u001b[0;34m)\u001b[0m\u001b[0;34m.\u001b[0m\u001b[0mtype\u001b[0m\u001b[0;34m(\u001b[0m\u001b[0mtorch\u001b[0m\u001b[0;34m.\u001b[0m\u001b[0mfloat\u001b[0m\u001b[0;34m)\u001b[0m\u001b[0;34m\u001b[0m\u001b[0;34m\u001b[0m\u001b[0m\n\u001b[0;32m---> 15\u001b[0;31m       \u001b[0mself\u001b[0m\u001b[0;34m.\u001b[0m\u001b[0mimages\u001b[0m \u001b[0;34m=\u001b[0m \u001b[0mtorch\u001b[0m\u001b[0;34m.\u001b[0m\u001b[0mreshape\u001b[0m\u001b[0;34m(\u001b[0m\u001b[0mself\u001b[0m\u001b[0;34m.\u001b[0m\u001b[0mimages\u001b[0m\u001b[0;34m,\u001b[0m\u001b[0;34m[\u001b[0m\u001b[0mlen\u001b[0m\u001b[0;34m(\u001b[0m\u001b[0mself\u001b[0m\u001b[0;34m.\u001b[0m\u001b[0mimages\u001b[0m\u001b[0;34m)\u001b[0m\u001b[0;34m,\u001b[0m \u001b[0mself\u001b[0m\u001b[0;34m.\u001b[0m\u001b[0mwidth\u001b[0m\u001b[0;34m,\u001b[0m \u001b[0mself\u001b[0m\u001b[0;34m.\u001b[0m\u001b[0mheight\u001b[0m\u001b[0;34m]\u001b[0m\u001b[0;34m)\u001b[0m\u001b[0;34m\u001b[0m\u001b[0;34m\u001b[0m\u001b[0m\n\u001b[0m\u001b[1;32m     16\u001b[0m \u001b[0;34m\u001b[0m\u001b[0m\n\u001b[1;32m     17\u001b[0m       \u001b[0mself\u001b[0m\u001b[0;34m.\u001b[0m\u001b[0minit_wt\u001b[0m\u001b[0;34m=\u001b[0m  \u001b[0mtorch\u001b[0m\u001b[0;34m.\u001b[0m\u001b[0munsqueeze\u001b[0m\u001b[0;34m(\u001b[0m\u001b[0mself\u001b[0m\u001b[0;34m.\u001b[0m\u001b[0mimages\u001b[0m\u001b[0;34m,\u001b[0m \u001b[0mdim\u001b[0m\u001b[0;34m=\u001b[0m\u001b[0;36m1\u001b[0m\u001b[0;34m)\u001b[0m\u001b[0;34m\u001b[0m\u001b[0;34m\u001b[0m\u001b[0m\n",
            "\u001b[0;31mRuntimeError\u001b[0m: shape '[2000, 96, 84]' is invalid for input of size 64512000"
          ]
        }
      ]
    },
    {
      "cell_type": "markdown",
      "metadata": {
        "id": "Rg3kFxvWQxZz"
      },
      "source": [
        "### 8.1. Preparing the input"
      ]
    },
    {
      "cell_type": "code",
      "metadata": {
        "id": "k7xxi2-mQvK2"
      },
      "source": [
        "# Prepare input\n",
        "    \n",
        "for i, (inputs_train_LL,inputs_train_LH,inputs_train_HL,inputs_train_HH, labels_train) in enumerate(dataloader_train): # Dataloader for training set\n",
        "  labels_train = labels_train.view(-1, 1)\n",
        "  y_onehot_train = torch.FloatTensor(inputs_train_LL.shape[0], num_classes)\n",
        "  y_onehot_train.zero_()\n",
        "  y_onehot_train.scatter_(1, labels_train, 1).cuda()\n",
        "\n",
        "for j , (inputs_test_LL,inputs_test_LH,inputs_test_HL,inputs_test_HH, labels_test) in enumerate(dataloader_test): # Dataloader for testing set\n",
        "  labels_test = labels_test.view(-1, 1)\n",
        "  y_onehot_test = torch.FloatTensor(inputs_test_LL.shape[0], num_classes)\n",
        "  y_onehot_test.zero_()\n",
        "  y_onehot_test.scatter_(1, labels_test, 1).cuda()\n",
        "\n",
        "\n",
        "inputs_train_LL.shape\n"
      ],
      "execution_count": null,
      "outputs": []
    },
    {
      "cell_type": "markdown",
      "metadata": {
        "id": "YMtyda9FmXsI"
      },
      "source": [
        "\n",
        "## 5. Init the **model**, **optimizer** and **improvechecker**\n",
        "\n"
      ]
    },
    {
      "cell_type": "code",
      "metadata": {
        "id": "chxlLm4MfUO6"
      },
      "source": [
        "# Initialize VAE\n",
        "model = VAEGT(split_ratio=split_ratio, batch_size= custom_data.__len__() , num_classes=50,imageshape=inputs_train_LL.shape[2])\n",
        "model.cuda()\n",
        "\n",
        "# Optimizers\n",
        "optimizer = torch.optim.Adam(model.parameters(), lr=1e-2)\n",
        "\n",
        "# ImproveChecker\n",
        "improvechecker = ImproveChecker(mode='min')\n",
        "\n",
        "num_epoch = 10000 #number of training epoch\n",
        "cal_epoch = 1000 #the epoch in which we calculate the accuracy"
      ],
      "execution_count": null,
      "outputs": []
    },
    {
      "cell_type": "markdown",
      "metadata": {
        "id": "dhX2O8HynrdC"
      },
      "source": [
        "## 6. Class with the role of get the **parameters**, **weights** as well as **biases**"
      ]
    },
    {
      "cell_type": "code",
      "metadata": {
        "id": "BcaJ78AQrF1X"
      },
      "source": [
        " # Get the parameter (sparse code, weights, biases)\n",
        " class Getparam():\n",
        "    def __init__(self, param_name = 'sparsecode', model = model):\n",
        "     self.param_name = param_name\n",
        "     self.model = model\n",
        "     self.bool_get= False\n",
        "    def _getparam(self, param_name):\n",
        "      for param_name_get, param in self.model.named_parameters():\n",
        "        if param_name_get == param_name:\n",
        "          self.bool_get = True\n",
        "          print(\"Sucessfully: [%s]\" %(param_name), param.data)\n",
        "      if not self.bool_get:\n",
        "        print(\"Error: [%s] parameter is not defined...\" % param_name)\n",
        "      return True\n"
      ],
      "execution_count": null,
      "outputs": []
    },
    {
      "cell_type": "markdown",
      "metadata": {
        "id": "1RZBUHLCoDdM"
      },
      "source": [
        "## 7. Class with the role of resulting the **metrics** containing:\n",
        "\n",
        "\n",
        "1.   Error calculation function\n",
        "2.   Applying the threshold to the coefficients\n",
        "\n"
      ]
    },
    {
      "cell_type": "code",
      "metadata": {
        "id": "C5ZOKh6To6D9"
      },
      "source": [
        "# Calculate the accuracy\n",
        "class Evaluate():\n",
        "  def __init__(self, coefLL= model.sparsecodeLL, coefLH= model.sparsecodeLH,coefHL= model.sparsecodeHL,coefHH= model.sparsecodeHH, train_labels = None, test_labels= None):\n",
        "    self.coefLL= coefLL\n",
        "    self.coefLH= coefLH\n",
        "    self.coefHL= coefHL\n",
        "    self.coefHH= coefHH\n",
        "\n",
        "    self.train_labels= train_labels\n",
        "    self.test_labels= test_labels\n",
        "\n",
        "    self.class_LL = torch.zeros(int(torch.max(self.test_labels)))\n",
        "    self.class_LH = torch.zeros(int(torch.max(self.test_labels)))\n",
        "    self.class_HL = torch.zeros(int(torch.max(self.test_labels)))\n",
        "    self.class_HH = torch.zeros(int(torch.max(self.test_labels)))\n",
        "\n",
        "    self.prediction = torch.zeros(len((self.test_labels)))\n",
        "\n",
        "  def _eval(self):\n",
        "    CoefLL = torch.abs(self._get_threshold(self.coefLL.cpu()))\n",
        "    CoefLH = torch.abs(self._get_threshold(self.coefLH.cpu()))\n",
        "    CoefHL = torch.abs(self._get_threshold(self.coefHL.cpu()))\n",
        "    CoefHH = torch.abs(self._get_threshold(self.coefHH.cpu()))\n",
        "\n",
        "\n",
        "    for atom in range(0,len(self.test_labels)):\n",
        "        xll = CoefLL[atom,:]\n",
        "        xlh = CoefLH[atom,:]\n",
        "        xhl = CoefHL[atom,:]\n",
        "        xhh = CoefHH[atom,:]\n",
        "\n",
        "        for l in range(1,torch.max(self.test_labels)+1):\n",
        "            l_idx = np.array([j for j in range(0,len(self.train_labels)) if self.train_labels[j]==l]).astype(int)\n",
        "            self.class_LL[int(l-1)] = sum(torch.abs(xll[l_idx]))\n",
        "            self.class_LH[int(l-1)] = sum(torch.abs(xlh[l_idx]))\n",
        "            self.class_HL[int(l-1)] = sum(torch.abs(xhl[l_idx]))\n",
        "            self.class_HH[int(l-1)] = sum(torch.abs(xhh[l_idx]))\n",
        "\n",
        "        self.prediction[atom] = torch.argmax(1/4*self.class_LL + 1/4*self.class_LH + 1/4*self.class_HL + 1/4*self.class_HH) +1\n",
        "\n",
        "    # self.prediction = np.array(self.prediction)\n",
        "    missrate = self._error_cal(self.test_labels, self.prediction)\n",
        "    accuracy = 1 - missrate\n",
        "    return accuracy\n",
        "\n",
        "  def _error_cal(self, ground_truth, predicted_label):\n",
        "    ground_truth=torch.squeeze(ground_truth,1)\n",
        "    _error_value = (ground_truth != predicted_label).sum().item()\n",
        "    missrate = _error_value/ (ground_truth.shape[0])\n",
        "    return missrate\n",
        "\n",
        "  def _get_threshold(self, coef, ro=0.1):\n",
        "      if ro < 1:\n",
        "          Cp = torch.zeros((coef.shape[0], coef.shape[1]))\n",
        "          sorted,_=torch.sort(-torch.abs(coef), 0)\n",
        "          S = torch.abs(sorted)\n",
        "          _index = torch.argsort(-torch.abs(coef),0)\n",
        "          for i in range(coef.shape[1]):\n",
        "              cL1 = torch.sum(S[:, i], dtype = torch.float)\n",
        "              stop = False\n",
        "              csum = 0\n",
        "              t = 0\n",
        "              while (stop == False):\n",
        "                  csum = csum + S[t, i]\n",
        "                  if csum > ro * cL1:\n",
        "                      stop = True\n",
        "                      Cp[_index[0:t + 1, i], i] = coef[_index[0:t + 1, i], i]\n",
        "                  t = t + 1\n",
        "      else:\n",
        "          Cp = coef\n",
        "\n",
        "      return Cp"
      ],
      "execution_count": null,
      "outputs": []
    },
    {
      "cell_type": "markdown",
      "metadata": {
        "id": "gFt6iFr5oiUc"
      },
      "source": [
        "## 8. Training process"
      ]
    },
    {
      "cell_type": "code",
      "metadata": {
        "id": "dWLyITDvAge0"
      },
      "source": [
        "# Training process\n",
        "\n",
        "model.train()\n",
        "xim = DWTInverse(wave='haar').cuda()\n",
        "for epoch in range(1, num_epoch):\n",
        "    # Training\n",
        "    optimizer.zero_grad()\n",
        "    sparsecodeLL, z_LL, z_LL_c,x_LL,x_LL_c,sparsecodeLH,z_LH, z_LH_c, x_LH,x_LH_c,sparsecodeHL,z_HL, z_HL_c,x_HL,x_HL_c,sparsecodeHH,z_HH, z_HH_c,x_HH,x_HH_c = model(\n",
        "        inputs_train_LL,inputs_train_LH,inputs_train_HL,inputs_train_HH,  y_onehot_train,inputs_test_LL,inputs_test_LH,inputs_test_HL,inputs_test_HH,  y_onehot_test)\n",
        "    loss = loss_fn(sparsecodeLL, z_LL, z_LL_c,x_LL,x_LL_c,sparsecodeLH,z_LH, z_LH_c, x_LH,x_LH_c,sparsecodeHL,z_HL, z_HL_c,x_HL,x_HL_c,sparsecodeHH,z_HH, z_HH_c,x_HH,x_HH_c)\n",
        "    loss.backward()\n",
        "    optimizer.step()\n",
        "\n",
        "    print(\"\\n[EPOCH %.3d] Loss: %.6f\" % (epoch, loss.item()))\n",
        "    if (epoch % cal_epoch == 0):\n",
        "      # ImproveChecker (check the best result)\n",
        "      accuracy= Evaluate( coefLL= model.sparsecodeLL, coefLH= model.sparsecodeLH,coefHL= model.sparsecodeHL,coefHH= model.sparsecodeHH, train_labels=labels_train, test_labels=labels_test)._eval()\n",
        "      print(\"=================>_Accuracy: %.6f\" % (accuracy))\n",
        "\n",
        "      # Save checkpoint\n",
        "      if improvechecker._check(loss.item()):\n",
        "        checkpoint = dict(\n",
        "          epoch=epoch,\n",
        "          loss=loss.item(),\n",
        "          state_dict=model.state_dict(),\n",
        "          optimizer=optimizer.state_dict(),\n",
        "        )\n",
        "        save_file = os.path.join('/content/drive/My Drive/Colab Notebooks/Variational-Autoencoder/checkpoints/', \"CAE.pth\")\n",
        "        torch.save(checkpoint, save_file)\n",
        "        print(\"Best checkpoint is saved at %s\" % (save_file))\n",
        "\n"
      ],
      "execution_count": null,
      "outputs": []
    },
    {
      "cell_type": "code",
      "metadata": {
        "id": "TGr7G82I0a-2"
      },
      "source": [
        ""
      ],
      "execution_count": null,
      "outputs": []
    }
  ]
}